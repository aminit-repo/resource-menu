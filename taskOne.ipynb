{
 "cells": [
  {
   "cell_type": "code",
   "execution_count": null,
   "id": "544bbb14",
   "metadata": {},
   "outputs": [
    {
     "name": "stdout",
     "output_type": "stream",
     "text": [
      "                Menu\n",
      "\n",
      " 1 : Percentage use of each CPU core in 10sec.\n",
      " 2 : Ram usage in GB                 \n",
      " 3 : operating System Name and Version\n",
      " 4 : Check is computer is Busy       \n",
      " 0 : Exit                            \n",
      "\n",
      "Enter a menu option or 0 to Exit : 4\n",
      "\n",
      "The computer is not busy\n",
      "\n",
      "                Menu\n",
      "\n",
      " 1 : Percentage use of each CPU core in 10sec.\n",
      " 2 : Ram usage in GB                 \n",
      " 3 : operating System Name and Version\n",
      " 4 : Check is computer is Busy       \n",
      " 0 : Exit                            \n"
     ]
    }
   ],
   "source": [
    "#import process utility library\n",
    "import psutil\n",
    "import platform\n",
    "\n",
    "#menu items \n",
    "menu= { 1 : 'Percentage use of each CPU core in 10sec.', 2 : 'Ram usage in GB', 3 : 'operating System Name and Version' , 4 : 'Check is computer is Busy', 0 : 'Exit' }\n",
    "\n",
    "#initialize variariable to enable script access the infinite loop\n",
    "menuKey=1;\n",
    "\n",
    "while menuKey > 0:\n",
    "    print(f'{\"\":15s} Menu\\n')\n",
    "    for key, description in menu.items():\n",
    "        print(f'{key:2d} : {description:32s}')\n",
    "    \n",
    "    menuKey=int(input(\"\\nEnter a menu option or 0 to Exit : \"))\n",
    "    \n",
    "    #get the percentage of each cpu core over 10secs \n",
    "    if menuKey==1:\n",
    "        #prompt a message to indicate the program will be idle for few secounds\n",
    "        print('\\nWait, while program monitor cpu usage...')\n",
    "        #get the percentage usage of all cpu cores\n",
    "        cpu_per= psutil.cpu_percent(10, all)\n",
    "        #display the percentage usage for each core\n",
    "        for i in range(len(cpu_per)):\n",
    "            print(f' {\"core\"+str(i):6s} : {str(cpu_per[i])+\"%\":6s}')\n",
    "        print('\\n')\n",
    "    \n",
    "    #get the RAM usage in GB\n",
    "    elif menuKey==2:\n",
    "        #get memory usage\n",
    "        memory_details = psutil.virtual_memory()\n",
    "        #convert to GigaByte by dividing by two in thirty times\n",
    "        gb_usage = memory_details.used\n",
    "        for i in range(30):\n",
    "            gb_usage = gb_usage /2\n",
    "        print(f'\\n{gb_usage:.2f}GB has been used\\n')\n",
    "        \n",
    "    #getting the operating system name and version\n",
    "    elif menuKey==3:\n",
    "        #display the system operating system and version\n",
    "        #source : https://docs.python.org/3.11/library/platform.html?highlight=platform#module-platform\n",
    "        print('System running on'+platform.system()+' version: '+plateform.version()) \n",
    "        \n",
    "        \n",
    "    #check whether the computer is currently busy\n",
    "    elif menuKey==4:\n",
    "        #get percentage cpu usage \n",
    "        cpu_per= psutil.cpu_percent(1)\n",
    "        #get percentage RAM usage\n",
    "        memory_details = psutil.virtual_memory()        \n",
    "        used_per= memory_details.percent\n",
    "        \n",
    "        if cpu_per >= 50 and used_per >= 50 :\n",
    "            print('\\nThe computer is busy\\n')\n",
    "        else:\n",
    "            print('\\nThe computer is not busy\\n')\n",
    "            \n",
    "    #display  message to indicate an end to the program\n",
    "    else:\n",
    "        print('\\nprogram terminated')\n"
   ]
  },
  {
   "cell_type": "code",
   "execution_count": null,
   "id": "552f24b0",
   "metadata": {},
   "outputs": [],
   "source": []
  }
 ],
 "metadata": {
  "kernelspec": {
   "display_name": "Python 3 (ipykernel)",
   "language": "python",
   "name": "python3"
  },
  "language_info": {
   "codemirror_mode": {
    "name": "ipython",
    "version": 3
   },
   "file_extension": ".py",
   "mimetype": "text/x-python",
   "name": "python",
   "nbconvert_exporter": "python",
   "pygments_lexer": "ipython3",
   "version": "3.9.13"
  }
 },
 "nbformat": 4,
 "nbformat_minor": 5
}
